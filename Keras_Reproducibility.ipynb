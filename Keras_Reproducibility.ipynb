{
  "nbformat": 4,
  "nbformat_minor": 0,
  "metadata": {
    "colab": {
      "name": "Keras-Reproducibility.ipynb",
      "provenance": [],
      "collapsed_sections": [],
      "authorship_tag": "ABX9TyPhYbJz329AHMEZZxL3ohaO",
      "include_colab_link": true
    },
    "kernelspec": {
      "name": "python3",
      "display_name": "Python 3"
    },
    "language_info": {
      "name": "python"
    },
    "accelerator": "GPU"
  },
  "cells": [
    {
      "cell_type": "markdown",
      "metadata": {
        "id": "view-in-github",
        "colab_type": "text"
      },
      "source": [
        "<a href=\"https://colab.research.google.com/github/KodaiS/Keras-Reproducibility/blob/main/Keras_Reproducibility.ipynb\" target=\"_parent\"><img src=\"https://colab.research.google.com/assets/colab-badge.svg\" alt=\"Open In Colab\"/></a>"
      ]
    },
    {
      "cell_type": "code",
      "source": [
        "import os\n",
        "import random\n",
        "\n",
        "import numpy as np\n",
        "import tensorflow as tf\n",
        "\n",
        "\n",
        "# 再現性確保のための設定\n",
        "# TensorFlow 2.1以降\n",
        "os.environ['PYTHONHASHSEED'] = '0'  # ハッシュベースの操作を再現可能にする\n",
        "os.environ['TF_DETERMINISTIC_OPS'] = '1'  # op determinismを有効化\n",
        "\n",
        "# TensorFlow 2.8.0以降\n",
        "# tf.config.experimental.enable_op_determinism()  # op determinismを有効化\n",
        "\n",
        "\n",
        "# データの読み込み\n",
        "mnist = tf.keras.datasets.mnist\n",
        "(x_train, y_train), (x_test, y_test) = mnist.load_data()\n",
        "x_train, x_test = x_train / 255.0, x_test / 255.0\n",
        "\n",
        "# 以下のモデルの学習が再現できるか確認\n",
        "def fit_model(x_train, y_train):\n",
        "    model = tf.keras.models.Sequential([\n",
        "    tf.keras.layers.Flatten(input_shape=(28, 28)),\n",
        "    tf.keras.layers.Dense(128, activation='relu'),\n",
        "    tf.keras.layers.Dense(10),\n",
        "    tf.keras.layers.Softmax()\n",
        "    ])\n",
        "\n",
        "    loss_fn = tf.keras.losses.SparseCategoricalCrossentropy(from_logits=True)\n",
        "\n",
        "    model.compile(optimizer='adam',\n",
        "                loss=loss_fn,\n",
        "                metrics=['accuracy'])\n",
        "\n",
        "    history = model.fit(x_train, y_train, epochs=3, validation_split=0.2)\n",
        "\n",
        "    return history\n",
        "\n",
        "\n",
        "# モデルの学習を2回行って比較\n",
        "# ループ内のモデル作製前にシード値を設定\n",
        "histories = []\n",
        "\n",
        "for i in range(2):\n",
        "    # シード値の設定\n",
        "    # TensorFlow 2.1以降\n",
        "    np.random.seed(1)\n",
        "    random.seed(1)\n",
        "    tf.random.set_seed(1)\n",
        "    \n",
        "    # TensorFlow 2.8.0以降\n",
        "    # tf.keras.utils.set_random_seed(1)\n",
        "\n",
        "\n",
        "    print(f'Model {i}')\n",
        "    histories.append(fit_model(x_train, y_train))\n",
        "\n",
        "\n",
        "# 結果の確認\n",
        "print('')\n",
        "print('Result: {}'.format(histories[0].history == histories[1].history))"
      ],
      "metadata": {
        "id": "xK4wyebQVJS0",
        "colab": {
          "base_uri": "https://localhost:8080/"
        },
        "outputId": "6818d6ea-e30a-4015-8f81-7d04e685cbf3"
      },
      "execution_count": null,
      "outputs": [
        {
          "output_type": "stream",
          "name": "stdout",
          "text": [
            "Model 0\n",
            "Epoch 1/3\n",
            "1500/1500 [==============================] - 7s 4ms/step - loss: 1.5788 - accuracy: 0.9018 - val_loss: 1.5250 - val_accuracy: 0.9431\n",
            "Epoch 2/3\n",
            "1500/1500 [==============================] - 6s 4ms/step - loss: 1.5199 - accuracy: 0.9474 - val_loss: 1.5106 - val_accuracy: 0.9555\n",
            "Epoch 3/3\n",
            "1500/1500 [==============================] - 6s 4ms/step - loss: 1.5055 - accuracy: 0.9603 - val_loss: 1.5031 - val_accuracy: 0.9615\n",
            "Model 1\n",
            "Epoch 1/3\n",
            "1500/1500 [==============================] - 6s 4ms/step - loss: 1.5788 - accuracy: 0.9018 - val_loss: 1.5250 - val_accuracy: 0.9431\n",
            "Epoch 2/3\n",
            "1500/1500 [==============================] - 6s 4ms/step - loss: 1.5199 - accuracy: 0.9474 - val_loss: 1.5106 - val_accuracy: 0.9555\n",
            "Epoch 3/3\n",
            "1500/1500 [==============================] - 6s 4ms/step - loss: 1.5055 - accuracy: 0.9603 - val_loss: 1.5031 - val_accuracy: 0.9615\n",
            "\n",
            "Result: True\n"
          ]
        }
      ]
    },
    {
      "cell_type": "code",
      "source": [
        "!python -V"
      ],
      "metadata": {
        "colab": {
          "base_uri": "https://localhost:8080/"
        },
        "id": "Q1fxSk2ftWt6",
        "outputId": "2d5f549c-eba8-46fb-bc49-7b7c88a5f40f"
      },
      "execution_count": null,
      "outputs": [
        {
          "output_type": "stream",
          "name": "stdout",
          "text": [
            "Python 3.7.13\n"
          ]
        }
      ]
    },
    {
      "cell_type": "code",
      "source": [
        ""
      ],
      "metadata": {
        "id": "kVr5NM7juSbK"
      },
      "execution_count": null,
      "outputs": []
    }
  ]
}